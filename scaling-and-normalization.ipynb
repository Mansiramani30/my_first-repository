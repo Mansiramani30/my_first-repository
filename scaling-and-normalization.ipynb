{
 "cells": [
  {
   "cell_type": "markdown",
   "id": "b4b0fe49",
   "metadata": {
    "papermill": {
     "duration": 0.007389,
     "end_time": "2022-10-10T17:29:35.661149",
     "exception": false,
     "start_time": "2022-10-10T17:29:35.653760",
     "status": "completed"
    },
    "tags": []
   },
   "source": [
    "**This notebook is an exercise in the [Data Cleaning](https://www.kaggle.com/learn/data-cleaning) course.  You can reference the tutorial at [this link](https://www.kaggle.com/alexisbcook/scaling-and-normalization).**\n",
    "\n",
    "---\n"
   ]
  },
  {
   "cell_type": "markdown",
   "id": "90127322",
   "metadata": {
    "papermill": {
     "duration": 0.00716,
     "end_time": "2022-10-10T17:29:35.675212",
     "exception": false,
     "start_time": "2022-10-10T17:29:35.668052",
     "status": "completed"
    },
    "tags": []
   },
   "source": [
    "# Get our environment set up\n",
    "\n",
    "To practice scaling and normalization, we're going to use a [dataset of Kickstarter campaigns](https://www.kaggle.com/kemical/kickstarter-projects). (Kickstarter is a website where people can ask people to invest in various projects and concept products.)\n",
    "\n",
    "The next code cell loads in the libraries and dataset we'll be using. "
   ]
  },
  {
   "cell_type": "code",
   "execution_count": 1,
   "id": "e46ce53b",
   "metadata": {
    "execution": {
     "iopub.execute_input": "2022-10-10T17:29:35.689249Z",
     "iopub.status.busy": "2022-10-10T17:29:35.688631Z",
     "iopub.status.idle": "2022-10-10T17:29:39.578224Z",
     "shell.execute_reply": "2022-10-10T17:29:39.576985Z"
    },
    "papermill": {
     "duration": 3.899694,
     "end_time": "2022-10-10T17:29:39.581687",
     "exception": false,
     "start_time": "2022-10-10T17:29:35.681993",
     "status": "completed"
    },
    "tags": []
   },
   "outputs": [],
   "source": [
    "# modules we'll use\n",
    "import pandas as pd\n",
    "import numpy as np\n",
    "\n",
    "# for Box-Cox Transformation\n",
    "from scipy import stats\n",
    "\n",
    "# for min_max scaling\n",
    "from mlxtend.preprocessing import minmax_scaling\n",
    "\n",
    "# plotting modules\n",
    "import seaborn as sns\n",
    "import matplotlib.pyplot as plt\n",
    "\n",
    "# read in all our data\n",
    "kickstarters_2017 = pd.read_csv(\"../input/kickstarter-projects/ks-projects-201801.csv\")\n",
    "\n",
    "# set seed for reproducibility\n",
    "np.random.seed(0)"
   ]
  },
  {
   "cell_type": "markdown",
   "id": "498428e4",
   "metadata": {
    "papermill": {
     "duration": 0.004653,
     "end_time": "2022-10-10T17:29:39.590941",
     "exception": false,
     "start_time": "2022-10-10T17:29:39.586288",
     "status": "completed"
    },
    "tags": []
   },
   "source": [
    "Let's start by scaling the goals of each campaign, which is how much money they were asking for.  After scaling, all values lie between 0 and 1."
   ]
  },
  {
   "cell_type": "code",
   "execution_count": 2,
   "id": "b77e88a0",
   "metadata": {
    "execution": {
     "iopub.execute_input": "2022-10-10T17:29:39.602177Z",
     "iopub.status.busy": "2022-10-10T17:29:39.601738Z",
     "iopub.status.idle": "2022-10-10T17:29:43.113975Z",
     "shell.execute_reply": "2022-10-10T17:29:43.112775Z"
    },
    "papermill": {
     "duration": 3.521223,
     "end_time": "2022-10-10T17:29:43.116744",
     "exception": false,
     "start_time": "2022-10-10T17:29:39.595521",
     "status": "completed"
    },
    "tags": []
   },
   "outputs": [
    {
     "name": "stderr",
     "output_type": "stream",
     "text": [
      "/opt/conda/lib/python3.7/site-packages/seaborn/distributions.py:2619: FutureWarning: `distplot` is a deprecated function and will be removed in a future version. Please adapt your code to use either `displot` (a figure-level function with similar flexibility) or `histplot` (an axes-level function for histograms).\n",
      "  warnings.warn(msg, FutureWarning)\n",
      "/opt/conda/lib/python3.7/site-packages/seaborn/distributions.py:2619: FutureWarning: `distplot` is a deprecated function and will be removed in a future version. Please adapt your code to use either `displot` (a figure-level function with similar flexibility) or `histplot` (an axes-level function for histograms).\n",
      "  warnings.warn(msg, FutureWarning)\n"
     ]
    },
    {
     "data": {
      "text/plain": [
       "Text(0.5, 1.0, 'Scaled data')"
      ]
     },
     "execution_count": 2,
     "metadata": {},
     "output_type": "execute_result"
    },
    {
     "data": {
      "image/png": "[encoded data removed]",
      "text/plain": [
       "<Figure size 1080x216 with 2 Axes>"
      ]
     },
     "metadata": {
      "needs_background": "light"
     },
     "output_type": "display_data"
    }
   ],
   "source": [
    "# select the usd_goal_real column\n",
    "original_data = pd.DataFrame(kickstarters_2017.usd_goal_real)\n",
    "\n",
    "# scale the goals from 0 to 1\n",
    "scaled_data = minmax_scaling(original_data, columns=['usd_goal_real'])\n",
    "\n",
    "# plot the original & scaled data together to compare\n",
    "fig, ax=plt.subplots(1,2,figsize=(15,3))\n",
    "sns.distplot(kickstarters_2017.usd_goal_real, ax=ax[0])\n",
    "ax[0].set_title(\"Original Data\")\n",
    "sns.distplot(scaled_data, ax=ax[1])\n",
    "ax[1].set_title(\"Scaled data\")"
   ]
  },
  {
   "cell_type": "code",
   "execution_count": 3,
   "id": "43522617",
   "metadata": {
    "execution": {
     "iopub.execute_input": "2022-10-10T17:29:43.129104Z",
     "iopub.status.busy": "2022-10-10T17:29:43.128641Z",
     "iopub.status.idle": "2022-10-10T17:29:43.149642Z",
     "shell.execute_reply": "2022-10-10T17:29:43.147829Z"
    },
    "papermill": {
     "duration": 0.03079,
     "end_time": "2022-10-10T17:29:43.152806",
     "exception": false,
     "start_time": "2022-10-10T17:29:43.122016",
     "status": "completed"
    },
    "tags": []
   },
   "outputs": [
    {
     "name": "stdout",
     "output_type": "stream",
     "text": [
      "Original data\n",
      "Preview:\n",
      "    usd_goal_real\n",
      "0        1533.95\n",
      "1       30000.00\n",
      "2       45000.00\n",
      "3        5000.00\n",
      "4       19500.00\n",
      "Minimum value: 0.01 \n",
      "Maximum value: 166361390.71\n",
      "______________________________\n",
      "\n",
      "Scaled data\n",
      "Preview:\n",
      "    usd_goal_real\n",
      "0       0.000009\n",
      "1       0.000180\n",
      "2       0.000270\n",
      "3       0.000030\n",
      "4       0.000117\n",
      "Minimum value: 0.0 \n",
      "Maximum value: 1.0\n"
     ]
    }
   ],
   "source": [
    "print('Original data\\nPreview:\\n', original_data.head())\n",
    "print('Minimum value:', float(original_data.min()),\n",
    "      '\\nMaximum value:', float(original_data.max()))\n",
    "print('_'*30)\n",
    "\n",
    "print('\\nScaled data\\nPreview:\\n', scaled_data.head())\n",
    "print('Minimum value:', float(scaled_data.min()),\n",
    "      '\\nMaximum value:', float(scaled_data.max()))"
   ]
  },
  {
   "cell_type": "markdown",
   "id": "c35c748a",
   "metadata": {
    "papermill": {
     "duration": 0.004738,
     "end_time": "2022-10-10T17:29:43.163109",
     "exception": false,
     "start_time": "2022-10-10T17:29:43.158371",
     "status": "completed"
    },
    "tags": []
   },
   "source": [
    "# 1) Practice scaling\n",
    "\n",
    "We just scaled the \"usd_goal_real\" column. What about the \"goal\" column?\n",
    "\n",
    "Begin by running the code cell below to create a DataFrame `original_goal_data` containing the \"goal\" column."
   ]
  },
  {
   "cell_type": "code",
   "execution_count": 4,
   "id": "510cb264",
   "metadata": {
    "execution": {
     "iopub.execute_input": "2022-10-10T17:29:43.175807Z",
     "iopub.status.busy": "2022-10-10T17:29:43.174548Z",
     "iopub.status.idle": "2022-10-10T17:29:43.181134Z",
     "shell.execute_reply": "2022-10-10T17:29:43.180062Z"
    },
    "papermill": {
     "duration": 0.01546,
     "end_time": "2022-10-10T17:29:43.183668",
     "exception": false,
     "start_time": "2022-10-10T17:29:43.168208",
     "status": "completed"
    },
    "tags": []
   },
   "outputs": [],
   "source": [
    "# select the usd_goal_real column\n",
    "original_goal_data = pd.DataFrame(kickstarters_2017.goal)"
   ]
  },
  {
   "cell_type": "markdown",
   "id": "be4c3f45",
   "metadata": {
    "papermill": {
     "duration": 0.004832,
     "end_time": "2022-10-10T17:29:43.193670",
     "exception": false,
     "start_time": "2022-10-10T17:29:43.188838",
     "status": "completed"
    },
    "tags": []
   },
   "source": [
    "Use `original_goal_data` to create a new DataFrame `scaled_goal_data` with values scaled between 0 and 1. You must use the `minmax_scaling()` function."
   ]
  },
  {
   "cell_type": "code",
   "execution_count": 5,
   "id": "cbbfbad5",
   "metadata": {
    "execution": {
     "iopub.execute_input": "2022-10-10T17:29:43.206605Z",
     "iopub.status.busy": "2022-10-10T17:29:43.205558Z",
     "iopub.status.idle": "2022-10-10T17:29:43.232453Z",
     "shell.execute_reply": "2022-10-10T17:29:43.231318Z"
    },
    "papermill": {
     "duration": 0.036624,
     "end_time": "2022-10-10T17:29:43.235411",
     "exception": false,
     "start_time": "2022-10-10T17:29:43.198787",
     "status": "completed"
    },
    "tags": []
   },
   "outputs": [],
   "source": [
    "scaled_goal_data = minmax_scaling(original_goal_data, columns=['goal'])"
   ]
  },
  {
   "cell_type": "markdown",
   "id": "189edc76",
   "metadata": {
    "papermill": {
     "duration": 0.004898,
     "end_time": "2022-10-10T17:29:43.246039",
     "exception": false,
     "start_time": "2022-10-10T17:29:43.241141",
     "status": "completed"
    },
    "tags": []
   },
   "source": [
    "# 2) Practice normalization\n",
    "\n",
    "Now you'll practice normalization. We begin by normalizing the amount of money pledged to each campaign."
   ]
  },
  {
   "cell_type": "code",
   "execution_count": 6,
   "id": "1ec70c4a",
   "metadata": {
    "execution": {
     "iopub.execute_input": "2022-10-10T17:29:43.258190Z",
     "iopub.status.busy": "2022-10-10T17:29:43.257762Z",
     "iopub.status.idle": "2022-10-10T17:29:47.430121Z",
     "shell.execute_reply": "2022-10-10T17:29:47.428829Z"
    },
    "papermill": {
     "duration": 4.181506,
     "end_time": "2022-10-10T17:29:47.432659",
     "exception": false,
     "start_time": "2022-10-10T17:29:43.251153",
     "status": "completed"
    },
    "tags": []
   },
   "outputs": [
    {
     "name": "stderr",
     "output_type": "stream",
     "text": [
      "/opt/conda/lib/python3.7/site-packages/seaborn/distributions.py:2619: FutureWarning: `distplot` is a deprecated function and will be removed in a future version. Please adapt your code to use either `displot` (a figure-level function with similar flexibility) or `histplot` (an axes-level function for histograms).\n",
      "  warnings.warn(msg, FutureWarning)\n",
      "/opt/conda/lib/python3.7/site-packages/seaborn/distributions.py:2619: FutureWarning: `distplot` is a deprecated function and will be removed in a future version. Please adapt your code to use either `displot` (a figure-level function with similar flexibility) or `histplot` (an axes-level function for histograms).\n",
      "  warnings.warn(msg, FutureWarning)\n"
     ]
    },
    {
     "data": {
      "image/png": "[encoded data removed]",
      "text/plain": [
       "<Figure size 1080x216 with 2 Axes>"
      ]
     },
     "metadata": {
      "needs_background": "light"
     },
     "output_type": "display_data"
    }
   ],
   "source": [
    "# get the index of all positive pledges (Box-Cox only takes positive values)\n",
    "index_of_positive_pledges = kickstarters_2017.usd_pledged_real > 0\n",
    "\n",
    "# get only positive pledges (using their indexes)\n",
    "positive_pledges = kickstarters_2017.usd_pledged_real.loc[index_of_positive_pledges]\n",
    "\n",
    "# normalize the pledges (w/ Box-Cox)\n",
    "normalized_pledges = pd.Series(stats.boxcox(positive_pledges)[0], \n",
    "                               name='usd_pledged_real', index=positive_pledges.index)\n",
    "\n",
    "# plot both together to compare\n",
    "fig, ax=plt.subplots(1,2,figsize=(15,3))\n",
    "sns.distplot(positive_pledges, ax=ax[0])\n",
    "ax[0].set_xscale('log')\n",
    "ax[0].set_title(\"Original Data\")\n",
    "sns.distplot(normalized_pledges, ax=ax[1])\n",
    "ax[1].set_title(\"Normalized data\");"
   ]
  },
  {
   "cell_type": "markdown",
   "id": "063c2100",
   "metadata": {
    "papermill": {
     "duration": 0.005406,
     "end_time": "2022-10-10T17:29:47.443853",
     "exception": false,
     "start_time": "2022-10-10T17:29:47.438447",
     "status": "completed"
    },
    "tags": []
   },
   "source": [
    "The values have changed significantly with normalization!\n",
    "\n",
    "In the next code cell, you'll take a look at the distribution of the normalized data, where it should now resemble a normal distribution."
   ]
  },
  {
   "cell_type": "code",
   "execution_count": 7,
   "id": "468d5042",
   "metadata": {
    "execution": {
     "iopub.execute_input": "2022-10-10T17:29:47.457225Z",
     "iopub.status.busy": "2022-10-10T17:29:47.456813Z",
     "iopub.status.idle": "2022-10-10T17:29:47.471353Z",
     "shell.execute_reply": "2022-10-10T17:29:47.469742Z"
    },
    "papermill": {
     "duration": 0.024869,
     "end_time": "2022-10-10T17:29:47.474304",
     "exception": false,
     "start_time": "2022-10-10T17:29:47.449435",
     "status": "completed"
    },
    "tags": []
   },
   "outputs": [
    {
     "name": "stdout",
     "output_type": "stream",
     "text": [
      "Original data\n",
      "Preview:\n",
      " 1     2421.0\n",
      "2      220.0\n",
      "3        1.0\n",
      "4     1283.0\n",
      "5    52375.0\n",
      "Name: usd_pledged_real, dtype: float64\n",
      "Minimum value: 0.45 \n",
      "Maximum value: 20338986.27\n",
      "______________________________\n",
      "\n",
      "Normalized data\n",
      "Preview:\n",
      " 1    10.165142\n",
      "2     6.468598\n",
      "3     0.000000\n",
      "4     9.129277\n",
      "5    15.836853\n",
      "Name: usd_pledged_real, dtype: float64\n",
      "Minimum value: -0.7779954122762203 \n",
      "Maximum value: 30.69054020451361\n"
     ]
    }
   ],
   "source": [
    "print('Original data\\nPreview:\\n', positive_pledges.head())\n",
    "print('Minimum value:', float(positive_pledges.min()),\n",
    "      '\\nMaximum value:', float(positive_pledges.max()))\n",
    "print('_'*30)\n",
    "\n",
    "print('\\nNormalized data\\nPreview:\\n', normalized_pledges.head())\n",
    "print('Minimum value:', float(normalized_pledges.min()),\n",
    "      '\\nMaximum value:', float(normalized_pledges.max()))"
   ]
  },
  {
   "cell_type": "markdown",
   "id": "9a0a2223",
   "metadata": {
    "papermill": {
     "duration": 0.005353,
     "end_time": "2022-10-10T17:29:47.486670",
     "exception": false,
     "start_time": "2022-10-10T17:29:47.481317",
     "status": "completed"
    },
    "tags": []
   },
   "source": [
    "We used the \"usd_pledged_real\" column. Follow the same process to normalize the \"pledged\" column. "
   ]
  },
  {
   "cell_type": "markdown",
   "id": "3d128dc9",
   "metadata": {
    "papermill": {
     "duration": 0.005379,
     "end_time": "2022-10-10T17:29:47.497755",
     "exception": false,
     "start_time": "2022-10-10T17:29:47.492376",
     "status": "completed"
    },
    "tags": []
   },
   "source": [
    "How does the normalized \"usd_pledged_real\" column look different from when we normalized the \"pledged\" column?  Or, do they look mostly the same?\n",
    "\n",
    "Once you have an answer, run the code cell below."
   ]
  },
  {
   "cell_type": "markdown",
   "id": "447d1570",
   "metadata": {
    "papermill": {
     "duration": 0.005698,
     "end_time": "2022-10-10T17:29:47.509086",
     "exception": false,
     "start_time": "2022-10-10T17:29:47.503388",
     "status": "completed"
    },
    "tags": []
   },
   "source": [
    "# (Optional) More practice\n",
    "\n",
    "Try finding a new dataset and pretend you're preparing to perform a [regression analysis](https://www.kaggle.com/rtatman/the-5-day-regression-challenge). \n",
    "\n",
    "[These datasets are a good start!](https://www.kaggle.com/rtatman/datasets-for-regression-analysis)\n",
    "\n",
    "Pick three or four variables and decide if you need to normalize or scale any of them and, if you think you should, practice applying the correct technique.\n",
    "\n",
    "# Keep going\n",
    "\n",
    "In the next lesson, learn how to [**parse dates**](https://www.kaggle.com/alexisbcook/parsing-dates) in a dataset."
   ]
  },
  {
   "cell_type": "markdown",
   "id": "25521af9",
   "metadata": {
    "papermill": {
     "duration": 0.005326,
     "end_time": "2022-10-10T17:29:47.520431",
     "exception": false,
     "start_time": "2022-10-10T17:29:47.515105",
     "status": "completed"
    },
    "tags": []
   },
   "source": [
    "---\n",
    "\n",
    "\n",
    "\n",
    "\n",
    "*Have questions or comments? Visit the [course discussion forum](https://www.kaggle.com/learn/data-cleaning/discussion) to chat with other learners.*"
   ]
  }
 ],
 "metadata": {
  "kernelspec": {
   "display_name": "Python 3",
   "language": "python",
   "name": "python3"
  },
  "language_info": {
   "codemirror_mode": {
    "name": "ipython",
    "version": 3
   },
   "file_extension": ".py",
   "mimetype": "text/x-python",
   "name": "python",
   "nbconvert_exporter": "python",
   "pygments_lexer": "ipython3",
   "version": "3.7.12"
  },
  "papermill": {
   "default_parameters": {},
   "duration": 23.245206,
   "end_time": "2022-10-10T17:29:48.450350",
   "environment_variables": {},
   "exception": null,
   "input_path": "__notebook__.ipynb",
   "output_path": "__notebook__.ipynb",
   "parameters": {},
   "start_time": "2022-10-10T17:29:25.205144",
   "version": "2.3.4"
  }
 },
 "nbformat": 4,
 "nbformat_minor": 5
}
