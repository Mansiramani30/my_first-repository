{
 "cells": [
  {
   "cell_type": "markdown",
   "id": "39a1767b",
   "metadata": {
    "papermill": {
     "duration": 0.009477,
     "end_time": "2022-10-13T16:26:00.921318",
     "exception": false,
     "start_time": "2022-10-13T16:26:00.911841",
     "status": "completed"
    },
    "tags": []
   },
   "source": [
    "**This notebook is an exercise in the [Data Cleaning](https://www.kaggle.com/learn/data-cleaning) course.  You can reference the tutorial at [this link](https://www.kaggle.com/alexisbcook/inconsistent-data-entry).**\n",
    "\n",
    "---\n"
   ]
  },
  {
   "cell_type": "markdown",
   "id": "f716fc1d",
   "metadata": {
    "papermill": {
     "duration": 0.004805,
     "end_time": "2022-10-13T16:26:00.933923",
     "exception": false,
     "start_time": "2022-10-13T16:26:00.929118",
     "status": "completed"
    },
    "tags": []
   },
   "source": [
    "In this exercise, you'll apply what you learned in the **Inconsistent data entry** tutorial.\n",
    "\n",
    "# Setup\n",
    "\n",
    "The questions below will give you feedback on your work. Run the following cell to set up the feedback system."
   ]
  },
  {
   "cell_type": "code",
   "execution_count": 1,
   "id": "84a5679a",
   "metadata": {
    "execution": {
     "iopub.execute_input": "2022-10-13T16:26:00.946817Z",
     "iopub.status.busy": "2022-10-13T16:26:00.945826Z",
     "iopub.status.idle": "2022-10-13T16:26:01.056282Z",
     "shell.execute_reply": "2022-10-13T16:26:01.054986Z"
    },
    "papermill": {
     "duration": 0.120546,
     "end_time": "2022-10-13T16:26:01.059522",
     "exception": false,
     "start_time": "2022-10-13T16:26:00.938976",
     "status": "completed"
    },
    "tags": []
   },
   "outputs": [
    {
     "name": "stdout",
     "output_type": "stream",
     "text": [
      "Setup Complete\n"
     ]
    }
   ],
   "source": [
    "from learntools.core import binder\n",
    "binder.bind(globals())\n",
    "from learntools.data_cleaning.ex5 import *\n",
    "print(\"Setup Complete\")"
   ]
  },
  {
   "cell_type": "markdown",
   "id": "fbabf9b8",
   "metadata": {
    "papermill": {
     "duration": 0.004789,
     "end_time": "2022-10-13T16:26:01.069592",
     "exception": false,
     "start_time": "2022-10-13T16:26:01.064803",
     "status": "completed"
    },
    "tags": []
   },
   "source": [
    "# Get our environment set up\n",
    "\n",
    "The first thing we'll need to do is load in the libraries and dataset we'll be using.  We use the same dataset from the tutorial."
   ]
  },
  {
   "cell_type": "code",
   "execution_count": 2,
   "id": "44197ca2",
   "metadata": {
    "execution": {
     "iopub.execute_input": "2022-10-13T16:26:01.081751Z",
     "iopub.status.busy": "2022-10-13T16:26:01.080811Z",
     "iopub.status.idle": "2022-10-13T16:26:01.098515Z",
     "shell.execute_reply": "2022-10-13T16:26:01.097317Z"
    },
    "papermill": {
     "duration": 0.026679,
     "end_time": "2022-10-13T16:26:01.101241",
     "exception": false,
     "start_time": "2022-10-13T16:26:01.074562",
     "status": "completed"
    },
    "tags": []
   },
   "outputs": [],
   "source": [
    "# modules we'll use\n",
    "import pandas as pd\n",
    "import numpy as np\n",
    "\n",
    "# helpful modules\n",
    "import fuzzywuzzy\n",
    "from fuzzywuzzy import process\n",
    "import chardet\n",
    "\n",
    "# read in all our data\n",
    "professors = pd.read_csv(\"../input/pakistan-intellectual-capital/pakistan_intellectual_capital.csv\")\n",
    "\n",
    "# set seed for reproducibility\n",
    "np.random.seed(0)"
   ]
  },
  {
   "cell_type": "markdown",
   "id": "6cf4276f",
   "metadata": {
    "papermill": {
     "duration": 0.004754,
     "end_time": "2022-10-13T16:26:01.111065",
     "exception": false,
     "start_time": "2022-10-13T16:26:01.106311",
     "status": "completed"
    },
    "tags": []
   },
   "source": [
    "Next, we'll redo all of the work that we did in the tutorial."
   ]
  },
  {
   "cell_type": "code",
   "execution_count": 3,
   "id": "3cb81568",
   "metadata": {
    "execution": {
     "iopub.execute_input": "2022-10-13T16:26:01.122929Z",
     "iopub.status.busy": "2022-10-13T16:26:01.122546Z",
     "iopub.status.idle": "2022-10-13T16:26:01.139610Z",
     "shell.execute_reply": "2022-10-13T16:26:01.138116Z"
    },
    "papermill": {
     "duration": 0.026001,
     "end_time": "2022-10-13T16:26:01.142153",
     "exception": false,
     "start_time": "2022-10-13T16:26:01.116152",
     "status": "completed"
    },
    "tags": []
   },
   "outputs": [
    {
     "name": "stdout",
     "output_type": "stream",
     "text": [
      "All done!\n"
     ]
    }
   ],
   "source": [
    "# convert to lower case\n",
    "professors['Country'] = professors['Country'].str.lower()\n",
    "# remove trailing white spaces\n",
    "professors['Country'] = professors['Country'].str.strip()\n",
    "\n",
    "# get the top 10 closest matches to \"south korea\"\n",
    "countries = professors['Country'].unique()\n",
    "matches = fuzzywuzzy.process.extract(\"south korea\", countries, limit=10, scorer=fuzzywuzzy.fuzz.token_sort_ratio)\n",
    "\n",
    "def replace_matches_in_column(df, column, string_to_match, min_ratio = 47):\n",
    "    # get a list of unique strings\n",
    "    strings = df[column].unique()\n",
    "    \n",
    "    # get the top 10 closest matches to our input string\n",
    "    matches = fuzzywuzzy.process.extract(string_to_match, strings, \n",
    "                                         limit=10, scorer=fuzzywuzzy.fuzz.token_sort_ratio)\n",
    "\n",
    "    # only get matches with a ratio > 90\n",
    "    close_matches = [matches[0] for matches in matches if matches[1] >= min_ratio]\n",
    "\n",
    "    # get the rows of all the close matches in our dataframe\n",
    "    rows_with_matches = df[column].isin(close_matches)\n",
    "\n",
    "    # replace all rows with close matches with the input matches \n",
    "    df.loc[rows_with_matches, column] = string_to_match\n",
    "    \n",
    "    # let us know the function's done\n",
    "    print(\"All done!\")\n",
    "    \n",
    "replace_matches_in_column(df=professors, column='Country', string_to_match=\"south korea\")\n",
    "countries = professors['Country'].unique()"
   ]
  },
  {
   "cell_type": "markdown",
   "id": "2ca6d955",
   "metadata": {
    "papermill": {
     "duration": 0.004848,
     "end_time": "2022-10-13T16:26:01.152170",
     "exception": false,
     "start_time": "2022-10-13T16:26:01.147322",
     "status": "completed"
    },
    "tags": []
   },
   "source": [
    "# 1) Examine another column\n",
    "\n",
    "Write code below to take a look at all the unique values in the \"Graduated from\" column."
   ]
  },
  {
   "cell_type": "code",
   "execution_count": 4,
   "id": "01b958f4",
   "metadata": {
    "execution": {
     "iopub.execute_input": "2022-10-13T16:26:01.164355Z",
     "iopub.status.busy": "2022-10-13T16:26:01.163918Z",
     "iopub.status.idle": "2022-10-13T16:26:01.169712Z",
     "shell.execute_reply": "2022-10-13T16:26:01.168456Z"
    },
    "papermill": {
     "duration": 0.014983,
     "end_time": "2022-10-13T16:26:01.172265",
     "exception": false,
     "start_time": "2022-10-13T16:26:01.157282",
     "status": "completed"
    },
    "tags": []
   },
   "outputs": [],
   "source": [
    "# TODO: Your code here\n",
    "unis = professors['Graduated from'].unique()"
   ]
  },
  {
   "cell_type": "markdown",
   "id": "70f23fb6",
   "metadata": {
    "papermill": {
     "duration": 0.004929,
     "end_time": "2022-10-13T16:26:01.182531",
     "exception": false,
     "start_time": "2022-10-13T16:26:01.177602",
     "status": "completed"
    },
    "tags": []
   },
   "source": [
    "Do you notice any inconsistencies in the data?  Can any of the inconsistencies in the data be fixed by removing white spaces at the beginning and end of cells?\n",
    "\n",
    "Once you have answered these questions, run the code cell below to get credit for your work."
   ]
  },
  {
   "cell_type": "code",
   "execution_count": 5,
   "id": "c21c6253",
   "metadata": {
    "execution": {
     "iopub.execute_input": "2022-10-13T16:26:01.194920Z",
     "iopub.status.busy": "2022-10-13T16:26:01.194477Z",
     "iopub.status.idle": "2022-10-13T16:26:01.199079Z",
     "shell.execute_reply": "2022-10-13T16:26:01.197932Z"
    },
    "papermill": {
     "duration": 0.013582,
     "end_time": "2022-10-13T16:26:01.201342",
     "exception": false,
     "start_time": "2022-10-13T16:26:01.187760",
     "status": "completed"
    },
    "tags": []
   },
   "outputs": [],
   "source": [
    "# Line below will give you a hint\n",
    "#q1.hint()"
   ]
  },
  {
   "cell_type": "markdown",
   "id": "c8f5ab24",
   "metadata": {
    "papermill": {
     "duration": 0.004765,
     "end_time": "2022-10-13T16:26:01.211262",
     "exception": false,
     "start_time": "2022-10-13T16:26:01.206497",
     "status": "completed"
    },
    "tags": []
   },
   "source": [
    "# 2) Do some text pre-processing\n",
    "\n",
    "Convert every entry in the \"Graduated from\" column in the `professors` DataFrame to remove white spaces at the beginning and end of cells."
   ]
  },
  {
   "cell_type": "code",
   "execution_count": 6,
   "id": "ec831f64",
   "metadata": {
    "execution": {
     "iopub.execute_input": "2022-10-13T16:26:01.223111Z",
     "iopub.status.busy": "2022-10-13T16:26:01.222711Z",
     "iopub.status.idle": "2022-10-13T16:26:01.238255Z",
     "shell.execute_reply": "2022-10-13T16:26:01.237093Z"
    },
    "papermill": {
     "duration": 0.024388,
     "end_time": "2022-10-13T16:26:01.240646",
     "exception": false,
     "start_time": "2022-10-13T16:26:01.216258",
     "status": "completed"
    },
    "tags": []
   },
   "outputs": [
    {
     "data": {
      "application/javascript": [
       "parent.postMessage({\"jupyterEvent\": \"custom.exercise_interaction\", \"data\": {\"outcomeType\": 1, \"valueTowardsCompletion\": 0.3333333333333333, \"interactionType\": 1, \"questionType\": 1, \"questionId\": \"2_TextProcessing\", \"learnToolsVersion\": \"0.3.4\", \"failureMessage\": \"\", \"exceptionClass\": \"\", \"trace\": \"\"}}, \"*\")"
      ],
      "text/plain": [
       "<IPython.core.display.Javascript object>"
      ]
     },
     "metadata": {},
     "output_type": "display_data"
    },
    {
     "data": {
      "text/markdown": [
       "<span style=\"color:#33cc33\">Correct</span>"
      ],
      "text/plain": [
       "Correct"
      ]
     },
     "metadata": {},
     "output_type": "display_data"
    }
   ],
   "source": [
    "# TODO: Your code here\n",
    "____\n",
    "professors['Graduated from'] = professors['Graduated from'].str.strip()\n",
    "\n",
    "# Check your answer\n",
    "q2.check()"
   ]
  },
  {
   "cell_type": "code",
   "execution_count": 7,
   "id": "ebec1753",
   "metadata": {
    "execution": {
     "iopub.execute_input": "2022-10-13T16:26:01.253476Z",
     "iopub.status.busy": "2022-10-13T16:26:01.252781Z",
     "iopub.status.idle": "2022-10-13T16:26:01.256846Z",
     "shell.execute_reply": "2022-10-13T16:26:01.255959Z"
    },
    "papermill": {
     "duration": 0.012803,
     "end_time": "2022-10-13T16:26:01.258863",
     "exception": false,
     "start_time": "2022-10-13T16:26:01.246060",
     "status": "completed"
    },
    "tags": []
   },
   "outputs": [],
   "source": [
    "# Lines below will give you a hint or solution code\n",
    "#q2.hint()\n",
    "#q2.solution()"
   ]
  },
  {
   "cell_type": "markdown",
   "id": "7fd5a941",
   "metadata": {
    "papermill": {
     "duration": 0.005004,
     "end_time": "2022-10-13T16:26:01.270354",
     "exception": false,
     "start_time": "2022-10-13T16:26:01.265350",
     "status": "completed"
    },
    "tags": []
   },
   "source": [
    "# 3) Continue working with countries\n",
    "\n",
    "In the tutorial, we focused on cleaning up inconsistencies in the \"Country\" column.  Run the code cell below to view the list of unique values that we ended with."
   ]
  },
  {
   "cell_type": "code",
   "execution_count": 8,
   "id": "6be7b7cd",
   "metadata": {
    "execution": {
     "iopub.execute_input": "2022-10-13T16:26:01.282886Z",
     "iopub.status.busy": "2022-10-13T16:26:01.282470Z",
     "iopub.status.idle": "2022-10-13T16:26:01.290235Z",
     "shell.execute_reply": "2022-10-13T16:26:01.289412Z"
    },
    "papermill": {
     "duration": 0.016698,
     "end_time": "2022-10-13T16:26:01.292430",
     "exception": false,
     "start_time": "2022-10-13T16:26:01.275732",
     "status": "completed"
    },
    "tags": []
   },
   "outputs": [
    {
     "data": {
      "text/plain": [
       "array(['australia', 'austria', 'canada', 'china', 'finland', 'france',\n",
       "       'germany', 'greece', 'hongkong', 'ireland', 'italy', 'japan',\n",
       "       'macau', 'malaysia', 'mauritius', 'netherland', 'new zealand',\n",
       "       'norway', 'pakistan', 'portugal', 'russian federation',\n",
       "       'saudi arabia', 'scotland', 'singapore', 'south korea', 'spain',\n",
       "       'sweden', 'thailand', 'turkey', 'uk', 'urbana', 'usa', 'usofa'],\n",
       "      dtype=object)"
      ]
     },
     "execution_count": 8,
     "metadata": {},
     "output_type": "execute_result"
    }
   ],
   "source": [
    "# get all the unique values in the 'City' column\n",
    "countries = professors['Country'].unique()\n",
    "\n",
    "# sort them alphabetically and then take a closer look\n",
    "countries.sort()\n",
    "countries"
   ]
  },
  {
   "cell_type": "markdown",
   "id": "acf1b5c1",
   "metadata": {
    "papermill": {
     "duration": 0.005146,
     "end_time": "2022-10-13T16:26:01.303110",
     "exception": false,
     "start_time": "2022-10-13T16:26:01.297964",
     "status": "completed"
    },
    "tags": []
   },
   "source": [
    "Take another look at the \"Country\" column and see if there's any more data cleaning we need to do.\n",
    "\n",
    "It looks like 'usa' and 'usofa' should be the same country.  Correct the \"Country\" column in the dataframe to replace 'usofa' with 'usa'.\n",
    "\n",
    "**Use the most recent version of the DataFrame (with the whitespaces at the beginning and end of cells removed) from question 2.**"
   ]
  },
  {
   "cell_type": "code",
   "execution_count": 9,
   "id": "79040a65",
   "metadata": {
    "execution": {
     "iopub.execute_input": "2022-10-13T16:26:01.316073Z",
     "iopub.status.busy": "2022-10-13T16:26:01.315589Z",
     "iopub.status.idle": "2022-10-13T16:26:01.325577Z",
     "shell.execute_reply": "2022-10-13T16:26:01.324006Z"
    },
    "papermill": {
     "duration": 0.019287,
     "end_time": "2022-10-13T16:26:01.327997",
     "exception": false,
     "start_time": "2022-10-13T16:26:01.308710",
     "status": "completed"
    },
    "tags": []
   },
   "outputs": [
    {
     "name": "stdout",
     "output_type": "stream",
     "text": [
      "All done!\n"
     ]
    }
   ],
   "source": [
    "# TODO: Your code here!\n",
    "matches = fuzzywuzzy.process.extract(\"usa\", countries, limit=10, scorer=fuzzywuzzy.fuzz.token_sort_ratio)\n",
    "replace_matches_in_column(df=professors, column='Country', string_to_match=\"usa\", min_ratio=70)"
   ]
  },
  {
   "cell_type": "code",
   "execution_count": 10,
   "id": "bc768f97",
   "metadata": {
    "execution": {
     "iopub.execute_input": "2022-10-13T16:26:01.340947Z",
     "iopub.status.busy": "2022-10-13T16:26:01.340530Z",
     "iopub.status.idle": "2022-10-13T16:26:01.345535Z",
     "shell.execute_reply": "2022-10-13T16:26:01.344303Z"
    },
    "papermill": {
     "duration": 0.014229,
     "end_time": "2022-10-13T16:26:01.347902",
     "exception": false,
     "start_time": "2022-10-13T16:26:01.333673",
     "status": "completed"
    },
    "tags": []
   },
   "outputs": [],
   "source": [
    "# Lines below will give you a hint or solution code\n",
    "#q3.hint()\n",
    "#q3.solution()"
   ]
  },
  {
   "cell_type": "markdown",
   "id": "75b12106",
   "metadata": {
    "papermill": {
     "duration": 0.005438,
     "end_time": "2022-10-13T16:26:01.359658",
     "exception": false,
     "start_time": "2022-10-13T16:26:01.354220",
     "status": "completed"
    },
    "tags": []
   },
   "source": [
    "# Congratulations!\n",
    "\n",
    "Congratulations for completing the **Data Cleaning** course on Kaggle Learn!\n",
    "\n",
    "To practice your new skills, you're encouraged to download and investigate some of [Kaggle's Datasets](https://www.kaggle.com/datasets)."
   ]
  },
  {
   "cell_type": "markdown",
   "id": "e4fd80d3",
   "metadata": {
    "papermill": {
     "duration": 0.00556,
     "end_time": "2022-10-13T16:26:01.371533",
     "exception": false,
     "start_time": "2022-10-13T16:26:01.365973",
     "status": "completed"
    },
    "tags": []
   },
   "source": [
    "---\n",
    "\n",
    "\n",
    "\n",
    "\n",
    "*Have questions or comments? Visit the [course discussion forum](https://www.kaggle.com/learn/data-cleaning/discussion) to chat with other learners.*"
   ]
  }
 ],
 "metadata": {
  "kernelspec": {
   "display_name": "Python 3",
   "language": "python",
   "name": "python3"
  },
  "language_info": {
   "codemirror_mode": {
    "name": "ipython",
    "version": 3
   },
   "file_extension": ".py",
   "mimetype": "text/x-python",
   "name": "python",
   "nbconvert_exporter": "python",
   "pygments_lexer": "ipython3",
   "version": "3.7.12"
  },
  "papermill": {
   "default_parameters": {},
   "duration": 10.245714,
   "end_time": "2022-10-13T16:26:02.100110",
   "environment_variables": {},
   "exception": null,
   "input_path": "__notebook__.ipynb",
   "output_path": "__notebook__.ipynb",
   "parameters": {},
   "start_time": "2022-10-13T16:25:51.854396",
   "version": "2.3.4"
  }
 },
 "nbformat": 4,
 "nbformat_minor": 5
}
